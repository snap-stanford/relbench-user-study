{
 "cells": [
  {
   "cell_type": "code",
   "execution_count": 1,
   "metadata": {},
   "outputs": [
    {
     "name": "stdout",
     "output_type": "stream",
     "text": [
      "There's a new jupysql version available (0.10.12), you're running 0.10.10. To upgrade: pip install jupysql --upgrade\n",
      "Deploy Streamlit apps for free on Ploomber Cloud! Learn more: https://ploomber.io/s/signup\n"
     ]
    }
   ],
   "source": [
    "import duckdb\n",
    "import numpy as np\n",
    "import pandas as pd\n",
    "import plotly.graph_objects as go\n",
    "import plotly.express as px\n",
    "\n",
    "\n",
    "# run utils.db_setup to set up duckdb database\n",
    "conn = duckdb.connect('avito.db')\n",
    "%load_ext sql\n",
    "%sql conn --alias duckdb\n",
    "%config SqlMagic.displaycon=False\n",
    "%config SqlMagic.autopandas=True"
   ]
  },
  {
   "cell_type": "markdown",
   "metadata": {},
   "source": [
    "## Schema\n",
    "\n",
    "<img src=\"https://relbench.stanford.edu/img/rel-avito.png\" alt=\"schema\" width=\"800\"/>"
   ]
  },
  {
   "cell_type": "markdown",
   "metadata": {},
   "source": [
    "## Tasks\n",
    "\n",
    "### `ad-ctr`\n",
    "\n",
    "Regression -- MAE"
   ]
  },
  {
   "cell_type": "code",
   "execution_count": 2,
   "metadata": {},
   "outputs": [],
   "source": [
    "%%sql train_df <<\n",
    "from ad_ctr_train;"
   ]
  },
  {
   "cell_type": "code",
   "execution_count": 3,
   "metadata": {},
   "outputs": [
    {
     "data": {
      "text/html": [
       "<div>\n",
       "<style scoped>\n",
       "    .dataframe tbody tr th:only-of-type {\n",
       "        vertical-align: middle;\n",
       "    }\n",
       "\n",
       "    .dataframe tbody tr th {\n",
       "        vertical-align: top;\n",
       "    }\n",
       "\n",
       "    .dataframe thead th {\n",
       "        text-align: right;\n",
       "    }\n",
       "</style>\n",
       "<table border=\"1\" class=\"dataframe\">\n",
       "  <thead>\n",
       "    <tr style=\"text-align: right;\">\n",
       "      <th></th>\n",
       "      <th>AdID</th>\n",
       "      <th>timestamp</th>\n",
       "      <th>num_click</th>\n",
       "    </tr>\n",
       "  </thead>\n",
       "  <tbody>\n",
       "    <tr>\n",
       "      <th>0</th>\n",
       "      <td>411934</td>\n",
       "      <td>2015-05-04</td>\n",
       "      <td>0.090909</td>\n",
       "    </tr>\n",
       "    <tr>\n",
       "      <th>1</th>\n",
       "      <td>424884</td>\n",
       "      <td>2015-04-26</td>\n",
       "      <td>0.020548</td>\n",
       "    </tr>\n",
       "    <tr>\n",
       "      <th>2</th>\n",
       "      <td>435123</td>\n",
       "      <td>2015-05-04</td>\n",
       "      <td>0.015267</td>\n",
       "    </tr>\n",
       "    <tr>\n",
       "      <th>3</th>\n",
       "      <td>440300</td>\n",
       "      <td>2015-04-26</td>\n",
       "      <td>0.041096</td>\n",
       "    </tr>\n",
       "    <tr>\n",
       "      <th>4</th>\n",
       "      <td>440456</td>\n",
       "      <td>2015-04-30</td>\n",
       "      <td>0.166667</td>\n",
       "    </tr>\n",
       "  </tbody>\n",
       "</table>\n",
       "</div>"
      ],
      "text/plain": [
       "     AdID  timestamp  num_click\n",
       "0  411934 2015-05-04   0.090909\n",
       "1  424884 2015-04-26   0.020548\n",
       "2  435123 2015-05-04   0.015267\n",
       "3  440300 2015-04-26   0.041096\n",
       "4  440456 2015-04-30   0.166667"
      ]
     },
     "execution_count": 3,
     "metadata": {},
     "output_type": "execute_result"
    }
   ],
   "source": [
    "train_df.head()"
   ]
  },
  {
   "cell_type": "code",
   "execution_count": 4,
   "metadata": {},
   "outputs": [
    {
     "name": "stdout",
     "output_type": "stream",
     "text": [
      "TRAIN\n",
      "\n",
      "5,100 samples over 3,528 ads.\n",
      "\n",
      "Temporal dist of samples:\n",
      "timestamp\n",
      "2015-04    0.60098\n",
      "2015-05    0.39902\n",
      "Name: proportion, dtype: float64\n",
      "\n",
      "Temporal dist of ads (first appearance):\n",
      "timestamp\n",
      "2015-04-26    0.285431\n",
      "2015-04-30    0.277494\n",
      "2015-05-04    0.437075\n",
      "Name: AdID, dtype: float64\n",
      "\n",
      "Label Distribution:\n",
      "Mean (std): 0.0 ± 0.1\n",
      "Prop zeros: 0.0%\n",
      "Quantiles: \n",
      "0.0    0.000517\n",
      "0.1    0.004347\n",
      "0.2    0.006821\n",
      "0.3    0.009804\n",
      "0.4    0.013416\n",
      "0.5    0.017857\n",
      "0.6    0.024390\n",
      "0.7    0.034483\n",
      "0.8    0.052632\n",
      "0.9    0.090909\n",
      "1.0    1.000000\n",
      "Name: num_click, dtype: float64\n"
     ]
    }
   ],
   "source": [
    "print('TRAIN\\n')\n",
    "\n",
    "print(f'{len(train_df):,} samples over {train_df.AdID.nunique():,} ads.')\n",
    "print()\n",
    "print('Temporal dist of samples:')\n",
    "print(train_df.timestamp.dt.strftime('%Y-%m').value_counts(normalize=True).sort_index())\n",
    "print()\n",
    "print('Temporal dist of ads (first appearance):')\n",
    "print(\n",
    "    # timestamp is sorted in desc order ==> keep='last'\n",
    "    train_df\n",
    "    .drop_duplicates(subset='AdID', keep='last')\n",
    "    .groupby('timestamp').AdID.nunique() / train_df.AdID.nunique()\n",
    ")\n",
    "print()\n",
    "print('Label Distribution:')\n",
    "mean = train_df.num_click.mean()\n",
    "std = train_df.num_click.std()\n",
    "print(f'Mean (std): {mean:,.1f} ± {std:,.1f}')\n",
    "print(f'Prop zeros: {(train_df.num_click == 0).mean():.1%}')\n",
    "print(f'Quantiles: \\n{train_df.num_click.quantile(np.arange(0, 1.1, 0.1))}')"
   ]
  },
  {
   "cell_type": "code",
   "execution_count": 6,
   "metadata": {},
   "outputs": [],
   "source": [
    "%%sql val_df <<\n",
    "from ad_ctr_val;"
   ]
  },
  {
   "cell_type": "code",
   "execution_count": 7,
   "metadata": {},
   "outputs": [
    {
     "name": "stdout",
     "output_type": "stream",
     "text": [
      "VAL\n",
      "\n",
      "1,766 samples over 1,766 ads.\n",
      "\n",
      "Temporal dist of samples:\n",
      "timestamp\n",
      "2015-05    1.0\n",
      "Name: proportion, dtype: float64\n",
      "\n",
      "Temporal dist of ads (first appearance):\n",
      "timestamp\n",
      "2015-05-08    1.0\n",
      "Name: AdID, dtype: float64\n",
      "\n",
      "Ads in val seen in train: 1,027\n",
      "\n",
      "Label Distribution:\n",
      "Mean (std): 0.0 ± 0.1\n",
      "Prop zeros: 0.0%\n",
      "Quantiles: \n",
      "0.0    0.000913\n",
      "0.1    0.004149\n",
      "0.2    0.006623\n",
      "0.3    0.009483\n",
      "0.4    0.013274\n",
      "0.5    0.017911\n",
      "0.6    0.025000\n",
      "0.7    0.036506\n",
      "0.8    0.057143\n",
      "0.9    0.111111\n",
      "1.0    1.000000\n",
      "Name: num_click, dtype: float64\n"
     ]
    }
   ],
   "source": [
    "print('VAL\\n')\n",
    "\n",
    "print(f'{len(val_df):,} samples over {val_df.AdID.nunique():,} ads.')\n",
    "print()\n",
    "print('Temporal dist of samples:')\n",
    "print(val_df.timestamp.dt.strftime('%Y-%m').value_counts(normalize=True).sort_index())\n",
    "print()\n",
    "print('Temporal dist of ads (first appearance):')\n",
    "print(\n",
    "    # timestamp is sorted in desc order ==> keep='last'\n",
    "    val_df\n",
    "    .drop_duplicates(subset='AdID', keep='last')\n",
    "    .groupby('timestamp').AdID.nunique() / val_df.AdID.nunique()\n",
    ")\n",
    "print()\n",
    "print(f'Ads in val seen in train: {len(set(val_df.AdID) & set(train_df.AdID)):,}')\n",
    "print()\n",
    "print('Label Distribution:')\n",
    "mean = val_df.num_click.mean()\n",
    "std = val_df.num_click.std()\n",
    "print(f'Mean (std): {mean:,.1f} ± {std:,.1f}')\n",
    "print(f'Prop zeros: {(val_df.num_click == 0).mean():.1%}')\n",
    "print(f'Quantiles: \\n{val_df.num_click.quantile(np.arange(0, 1.1, 0.1))}')"
   ]
  },
  {
   "cell_type": "markdown",
   "metadata": {},
   "source": [
    "### `user-visits`\n",
    "\n",
    "Binary Classification -- ROCAUC"
   ]
  },
  {
   "cell_type": "code",
   "execution_count": 12,
   "metadata": {},
   "outputs": [],
   "source": [
    "%%sql train_df <<\n",
    "select * from user_visits_train;"
   ]
  },
  {
   "cell_type": "code",
   "execution_count": 13,
   "metadata": {},
   "outputs": [
    {
     "data": {
      "text/html": [
       "<div>\n",
       "<style scoped>\n",
       "    .dataframe tbody tr th:only-of-type {\n",
       "        vertical-align: middle;\n",
       "    }\n",
       "\n",
       "    .dataframe tbody tr th {\n",
       "        vertical-align: top;\n",
       "    }\n",
       "\n",
       "    .dataframe thead th {\n",
       "        text-align: right;\n",
       "    }\n",
       "</style>\n",
       "<table border=\"1\" class=\"dataframe\">\n",
       "  <thead>\n",
       "    <tr style=\"text-align: right;\">\n",
       "      <th></th>\n",
       "      <th>UserID</th>\n",
       "      <th>timestamp</th>\n",
       "      <th>num_click</th>\n",
       "    </tr>\n",
       "  </thead>\n",
       "  <tbody>\n",
       "    <tr>\n",
       "      <th>0</th>\n",
       "      <td>38950</td>\n",
       "      <td>2015-04-26</td>\n",
       "      <td>True</td>\n",
       "    </tr>\n",
       "    <tr>\n",
       "      <th>1</th>\n",
       "      <td>35404</td>\n",
       "      <td>2015-04-26</td>\n",
       "      <td>True</td>\n",
       "    </tr>\n",
       "    <tr>\n",
       "      <th>2</th>\n",
       "      <td>85455</td>\n",
       "      <td>2015-04-26</td>\n",
       "      <td>True</td>\n",
       "    </tr>\n",
       "    <tr>\n",
       "      <th>3</th>\n",
       "      <td>2871</td>\n",
       "      <td>2015-04-26</td>\n",
       "      <td>True</td>\n",
       "    </tr>\n",
       "    <tr>\n",
       "      <th>4</th>\n",
       "      <td>34600</td>\n",
       "      <td>2015-04-26</td>\n",
       "      <td>True</td>\n",
       "    </tr>\n",
       "  </tbody>\n",
       "</table>\n",
       "</div>"
      ],
      "text/plain": [
       "   UserID  timestamp  num_click\n",
       "0   38950 2015-04-26       True\n",
       "1   35404 2015-04-26       True\n",
       "2   85455 2015-04-26       True\n",
       "3    2871 2015-04-26       True\n",
       "4   34600 2015-04-26       True"
      ]
     },
     "execution_count": 13,
     "metadata": {},
     "output_type": "execute_result"
    }
   ],
   "source": [
    "train_df.head()"
   ]
  },
  {
   "cell_type": "code",
   "execution_count": 16,
   "metadata": {},
   "outputs": [
    {
     "name": "stdout",
     "output_type": "stream",
     "text": [
      "TRAIN\n",
      "\n",
      "86,619 samples over 44,968 UserIDs.\n",
      "\n",
      "Label Distribution:\n",
      "num_click\n",
      "True     0.905887\n",
      "False    0.094113\n",
      "Name: proportion, dtype: float64\n",
      "\n",
      "Temporal dist of samples:\n",
      "timestamp\n",
      "2015-04    0.625925\n",
      "2015-05    0.374075\n",
      "Name: proportion, dtype: float64\n",
      "\n",
      "Temporal dist of UserIDs (first appearance):\n",
      "timestamp\n",
      "2015-04-26    0.348159\n",
      "2015-04-30    0.274751\n",
      "2015-05-04    0.377090\n",
      "Name: UserID, dtype: float64\n"
     ]
    }
   ],
   "source": [
    "print('TRAIN\\n')\n",
    "\n",
    "print(f'{len(train_df):,} samples over {train_df.UserID.nunique():,} UserIDs.')\n",
    "print()\n",
    "print('Label Distribution:')\n",
    "print(train_df.num_click.value_counts(normalize=True))\n",
    "print()\n",
    "print('Temporal dist of samples:')\n",
    "print(train_df.timestamp.dt.strftime('%Y-%m').value_counts(normalize=True).sort_index())\n",
    "print()\n",
    "print('Temporal dist of UserIDs (first appearance):')\n",
    "print(\n",
    "    # timestamp is sorted in desc order ==> keep='last'\n",
    "    train_df\n",
    "    .drop_duplicates(subset='UserID', keep='last')\n",
    "    .groupby('timestamp').UserID.nunique() / train_df.UserID.nunique()\n",
    ")"
   ]
  },
  {
   "cell_type": "code",
   "execution_count": 17,
   "metadata": {},
   "outputs": [],
   "source": [
    "%%sql val_df <<\n",
    "select * from user_visits_val;"
   ]
  },
  {
   "cell_type": "code",
   "execution_count": 19,
   "metadata": {},
   "outputs": [
    {
     "name": "stdout",
     "output_type": "stream",
     "text": [
      "VAL\n",
      "\n",
      "29,979 samples over 29,979 UserIDs.\n",
      "\n",
      "Label Distribution:\n",
      "num_click\n",
      "True     0.903499\n",
      "False    0.096501\n",
      "Name: proportion, dtype: float64\n",
      "\n",
      "Temporal dist of samples:\n",
      "timestamp\n",
      "2015-05    1.0\n",
      "Name: proportion, dtype: float64\n",
      "\n",
      "UserIDs in val seen in train: 24,343\n",
      "\n",
      "Temporal dist of UserIDs (first appearance):\n",
      "timestamp\n",
      "2015-05-08    1.0\n",
      "Name: UserID, dtype: float64\n"
     ]
    }
   ],
   "source": [
    "print('VAL\\n')\n",
    "\n",
    "print(f'{len(val_df):,} samples over {val_df.UserID.nunique():,} UserIDs.')\n",
    "print()\n",
    "print('Label Distribution:')\n",
    "print(val_df.num_click.value_counts(normalize=True))\n",
    "print()\n",
    "print('Temporal dist of samples:')\n",
    "print(val_df.timestamp.dt.strftime('%Y-%m').value_counts(normalize=True).sort_index())\n",
    "print()\n",
    "print(f'UserIDs in val seen in train: {len(set(val_df.UserID) & set(train_df.UserID)):,}')\n",
    "print()\n",
    "print('Temporal dist of UserIDs (first appearance):')\n",
    "print(\n",
    "    # timestamp is sorted in desc order ==> keep='last'\n",
    "    val_df\n",
    "    .drop_duplicates(subset='UserID', keep='last')\n",
    "    .groupby('timestamp').UserID.nunique() / val_df.UserID.nunique()\n",
    ")"
   ]
  },
  {
   "cell_type": "markdown",
   "metadata": {},
   "source": [
    "### `user-clicks`"
   ]
  },
  {
   "cell_type": "code",
   "execution_count": 20,
   "metadata": {},
   "outputs": [],
   "source": [
    "%%sql train_df <<\n",
    "select * from user_clicks_train;"
   ]
  },
  {
   "cell_type": "code",
   "execution_count": 21,
   "metadata": {},
   "outputs": [
    {
     "data": {
      "text/html": [
       "<div>\n",
       "<style scoped>\n",
       "    .dataframe tbody tr th:only-of-type {\n",
       "        vertical-align: middle;\n",
       "    }\n",
       "\n",
       "    .dataframe tbody tr th {\n",
       "        vertical-align: top;\n",
       "    }\n",
       "\n",
       "    .dataframe thead th {\n",
       "        text-align: right;\n",
       "    }\n",
       "</style>\n",
       "<table border=\"1\" class=\"dataframe\">\n",
       "  <thead>\n",
       "    <tr style=\"text-align: right;\">\n",
       "      <th></th>\n",
       "      <th>UserID</th>\n",
       "      <th>timestamp</th>\n",
       "      <th>num_click</th>\n",
       "    </tr>\n",
       "  </thead>\n",
       "  <tbody>\n",
       "    <tr>\n",
       "      <th>0</th>\n",
       "      <td>69880</td>\n",
       "      <td>2015-04-26</td>\n",
       "      <td>False</td>\n",
       "    </tr>\n",
       "    <tr>\n",
       "      <th>1</th>\n",
       "      <td>21033</td>\n",
       "      <td>2015-04-26</td>\n",
       "      <td>False</td>\n",
       "    </tr>\n",
       "    <tr>\n",
       "      <th>2</th>\n",
       "      <td>41345</td>\n",
       "      <td>2015-04-26</td>\n",
       "      <td>False</td>\n",
       "    </tr>\n",
       "    <tr>\n",
       "      <th>3</th>\n",
       "      <td>26980</td>\n",
       "      <td>2015-04-26</td>\n",
       "      <td>False</td>\n",
       "    </tr>\n",
       "    <tr>\n",
       "      <th>4</th>\n",
       "      <td>56394</td>\n",
       "      <td>2015-04-26</td>\n",
       "      <td>False</td>\n",
       "    </tr>\n",
       "  </tbody>\n",
       "</table>\n",
       "</div>"
      ],
      "text/plain": [
       "   UserID  timestamp  num_click\n",
       "0   69880 2015-04-26      False\n",
       "1   21033 2015-04-26      False\n",
       "2   41345 2015-04-26      False\n",
       "3   26980 2015-04-26      False\n",
       "4   56394 2015-04-26      False"
      ]
     },
     "execution_count": 21,
     "metadata": {},
     "output_type": "execute_result"
    }
   ],
   "source": [
    "train_df.head()"
   ]
  },
  {
   "cell_type": "code",
   "execution_count": 22,
   "metadata": {},
   "outputs": [
    {
     "name": "stdout",
     "output_type": "stream",
     "text": [
      "TRAIN\n",
      "\n",
      "59,454 samples over 34,575 UserIDs.\n",
      "\n",
      "Label Distribution:\n",
      "num_click\n",
      "False    0.961281\n",
      "True     0.038719\n",
      "Name: proportion, dtype: float64\n",
      "\n",
      "Temporal dist of samples:\n",
      "timestamp\n",
      "2015-04    0.617974\n",
      "2015-05    0.382026\n",
      "Name: proportion, dtype: float64\n",
      "\n",
      "Temporal dist of UserIDs (first appearance):\n",
      "timestamp\n",
      "2015-04-26    0.333449\n",
      "2015-04-30    0.253015\n",
      "2015-05-04    0.413536\n",
      "Name: UserID, dtype: float64\n"
     ]
    }
   ],
   "source": [
    "print('TRAIN\\n')\n",
    "\n",
    "print(f'{len(train_df):,} samples over {train_df.UserID.nunique():,} UserIDs.')\n",
    "print()\n",
    "print('Label Distribution:')\n",
    "print(train_df.num_click.value_counts(normalize=True))\n",
    "print()\n",
    "print('Temporal dist of samples:')\n",
    "print(train_df.timestamp.dt.strftime('%Y-%m').value_counts(normalize=True).sort_index())\n",
    "print()\n",
    "print('Temporal dist of UserIDs (first appearance):')\n",
    "print(\n",
    "    # timestamp is sorted in desc order ==> keep='last'\n",
    "    train_df\n",
    "    .drop_duplicates(subset='UserID', keep='last')\n",
    "    .groupby('timestamp').UserID.nunique() / train_df.UserID.nunique()\n",
    ")"
   ]
  },
  {
   "cell_type": "code",
   "execution_count": 23,
   "metadata": {},
   "outputs": [],
   "source": [
    "%%sql val_df <<\n",
    "select * from user_clicks_val;"
   ]
  },
  {
   "cell_type": "code",
   "execution_count": 25,
   "metadata": {},
   "outputs": [
    {
     "name": "stdout",
     "output_type": "stream",
     "text": [
      "VAL\n",
      "\n",
      "21,183 samples over 21,183 UserIDs.\n",
      "\n",
      "Label Distribution:\n",
      "num_click\n",
      "False    0.96483\n",
      "True     0.03517\n",
      "Name: proportion, dtype: float64\n",
      "\n",
      "Temporal dist of samples:\n",
      "timestamp\n",
      "2015-05    1.0\n",
      "Name: proportion, dtype: float64\n",
      "\n",
      "UserIDs in val seen in train: 15,562\n",
      "\n",
      "Temporal dist of UserIDs (first appearance):\n",
      "timestamp\n",
      "2015-05-08    1.0\n",
      "Name: UserID, dtype: float64\n"
     ]
    }
   ],
   "source": [
    "print('VAL\\n')\n",
    "\n",
    "print(f'{len(val_df):,} samples over {val_df.UserID.nunique():,} UserIDs.')\n",
    "print()\n",
    "print('Label Distribution:')\n",
    "print(val_df.num_click.value_counts(normalize=True))\n",
    "print()\n",
    "print('Temporal dist of samples:')\n",
    "print(val_df.timestamp.dt.strftime('%Y-%m').value_counts(normalize=True).sort_index())\n",
    "print()\n",
    "print(f'UserIDs in val seen in train: {len(set(val_df.UserID) & set(train_df.UserID)):,}')\n",
    "print()\n",
    "print('Temporal dist of UserIDs (first appearance):')\n",
    "print(\n",
    "    # timestamp is sorted in desc order ==> keep='last'\n",
    "    val_df\n",
    "    .drop_duplicates(subset='UserID', keep='last')\n",
    "    .groupby('timestamp').UserID.nunique() / val_df.UserID.nunique()\n",
    ")"
   ]
  },
  {
   "cell_type": "markdown",
   "metadata": {},
   "source": [
    "## Users"
   ]
  },
  {
   "cell_type": "code",
   "execution_count": 26,
   "metadata": {},
   "outputs": [],
   "source": [
    "%%sql ads_info <<\n",
    "select * from AdsInfo;"
   ]
  },
  {
   "cell_type": "code",
   "execution_count": 27,
   "metadata": {},
   "outputs": [
    {
     "data": {
      "text/html": [
       "<div>\n",
       "<style scoped>\n",
       "    .dataframe tbody tr th:only-of-type {\n",
       "        vertical-align: middle;\n",
       "    }\n",
       "\n",
       "    .dataframe tbody tr th {\n",
       "        vertical-align: top;\n",
       "    }\n",
       "\n",
       "    .dataframe thead th {\n",
       "        text-align: right;\n",
       "    }\n",
       "</style>\n",
       "<table border=\"1\" class=\"dataframe\">\n",
       "  <thead>\n",
       "    <tr style=\"text-align: right;\">\n",
       "      <th></th>\n",
       "      <th>AdID</th>\n",
       "      <th>LocationID</th>\n",
       "      <th>CategoryID</th>\n",
       "      <th>Price</th>\n",
       "      <th>Title</th>\n",
       "      <th>IsContext</th>\n",
       "    </tr>\n",
       "  </thead>\n",
       "  <tbody>\n",
       "    <tr>\n",
       "      <th>0</th>\n",
       "      <td>0</td>\n",
       "      <td>497.0</td>\n",
       "      <td>22.0</td>\n",
       "      <td>400.0</td>\n",
       "      <td>Босоножки</td>\n",
       "      <td>0.0</td>\n",
       "    </tr>\n",
       "    <tr>\n",
       "      <th>1</th>\n",
       "      <td>1</td>\n",
       "      <td>497.0</td>\n",
       "      <td>22.0</td>\n",
       "      <td>6864.0</td>\n",
       "      <td>Tosca Blu Балетки Мотто оригинал</td>\n",
       "      <td>0.0</td>\n",
       "    </tr>\n",
       "    <tr>\n",
       "      <th>2</th>\n",
       "      <td>2</td>\n",
       "      <td>335.0</td>\n",
       "      <td>43.0</td>\n",
       "      <td>7800000.0</td>\n",
       "      <td>Morgan Aero, 2008</td>\n",
       "      <td>0.0</td>\n",
       "    </tr>\n",
       "    <tr>\n",
       "      <th>3</th>\n",
       "      <td>3</td>\n",
       "      <td>341.0</td>\n",
       "      <td>47.0</td>\n",
       "      <td>350.0</td>\n",
       "      <td>Доска</td>\n",
       "      <td>0.0</td>\n",
       "    </tr>\n",
       "    <tr>\n",
       "      <th>4</th>\n",
       "      <td>4</td>\n",
       "      <td>334.0</td>\n",
       "      <td>14.0</td>\n",
       "      <td>200000.0</td>\n",
       "      <td>MAN TGA 18.480 BLS 2008г</td>\n",
       "      <td>0.0</td>\n",
       "    </tr>\n",
       "    <tr>\n",
       "      <th>...</th>\n",
       "      <td>...</td>\n",
       "      <td>...</td>\n",
       "      <td>...</td>\n",
       "      <td>...</td>\n",
       "      <td>...</td>\n",
       "      <td>...</td>\n",
       "    </tr>\n",
       "    <tr>\n",
       "      <th>5960553</th>\n",
       "      <td>5960553</td>\n",
       "      <td>375.0</td>\n",
       "      <td>65.0</td>\n",
       "      <td>0.0</td>\n",
       "      <td>Обслуживание</td>\n",
       "      <td>0.0</td>\n",
       "    </tr>\n",
       "    <tr>\n",
       "      <th>5960554</th>\n",
       "      <td>5960554</td>\n",
       "      <td>22.0</td>\n",
       "      <td>34.0</td>\n",
       "      <td>0.0</td>\n",
       "      <td>Форточка на бмв</td>\n",
       "      <td>0.0</td>\n",
       "    </tr>\n",
       "    <tr>\n",
       "      <th>5960555</th>\n",
       "      <td>5960555</td>\n",
       "      <td>163.0</td>\n",
       "      <td>54.0</td>\n",
       "      <td>20000.0</td>\n",
       "      <td>2-к квартира, 50 м², 12/14 эт.</td>\n",
       "      <td>0.0</td>\n",
       "    </tr>\n",
       "    <tr>\n",
       "      <th>5960556</th>\n",
       "      <td>5960556</td>\n",
       "      <td>5.0</td>\n",
       "      <td>67.0</td>\n",
       "      <td>0.0</td>\n",
       "      <td>Ищу дилера и дистрибьютора</td>\n",
       "      <td>0.0</td>\n",
       "    </tr>\n",
       "    <tr>\n",
       "      <th>5960557</th>\n",
       "      <td>5960557</td>\n",
       "      <td>495.0</td>\n",
       "      <td>31.0</td>\n",
       "      <td>5000.0</td>\n",
       "      <td>Мейн Кун Audi</td>\n",
       "      <td>0.0</td>\n",
       "    </tr>\n",
       "  </tbody>\n",
       "</table>\n",
       "<p>5960558 rows × 6 columns</p>\n",
       "</div>"
      ],
      "text/plain": [
       "            AdID  LocationID  CategoryID      Price  \\\n",
       "0              0       497.0        22.0      400.0   \n",
       "1              1       497.0        22.0     6864.0   \n",
       "2              2       335.0        43.0  7800000.0   \n",
       "3              3       341.0        47.0      350.0   \n",
       "4              4       334.0        14.0   200000.0   \n",
       "...          ...         ...         ...        ...   \n",
       "5960553  5960553       375.0        65.0        0.0   \n",
       "5960554  5960554        22.0        34.0        0.0   \n",
       "5960555  5960555       163.0        54.0    20000.0   \n",
       "5960556  5960556         5.0        67.0        0.0   \n",
       "5960557  5960557       495.0        31.0     5000.0   \n",
       "\n",
       "                                    Title  IsContext  \n",
       "0                               Босоножки        0.0  \n",
       "1        Tosca Blu Балетки Мотто оригинал        0.0  \n",
       "2                       Morgan Aero, 2008        0.0  \n",
       "3                                   Доска        0.0  \n",
       "4                MAN TGA 18.480 BLS 2008г        0.0  \n",
       "...                                   ...        ...  \n",
       "5960553                      Обслуживание        0.0  \n",
       "5960554                   Форточка на бмв        0.0  \n",
       "5960555    2-к квартира, 50 м², 12/14 эт.        0.0  \n",
       "5960556        Ищу дилера и дистрибьютора        0.0  \n",
       "5960557                     Мейн Кун Audi        0.0  \n",
       "\n",
       "[5960558 rows x 6 columns]"
      ]
     },
     "execution_count": 27,
     "metadata": {},
     "output_type": "execute_result"
    }
   ],
   "source": [
    "ads_info"
   ]
  },
  {
   "cell_type": "code",
   "execution_count": 33,
   "metadata": {},
   "outputs": [
    {
     "data": {
      "text/plain": [
       "LocationID\n",
       "497.0    0.156657\n",
       "334.0    0.096059\n",
       "136.0    0.024408\n",
       "495.0    0.024336\n",
       "331.0    0.022689\n",
       "440.0    0.020039\n",
       "38.0     0.018835\n",
       "36.0     0.018736\n",
       "376.0    0.018653\n",
       "175.0    0.018091\n",
       "Name: proportion, dtype: float64"
      ]
     },
     "execution_count": 33,
     "metadata": {},
     "output_type": "execute_result"
    }
   ],
   "source": [
    "ads_info.LocationID.value_counts(normalize=True).head(10)"
   ]
  },
  {
   "cell_type": "code",
   "execution_count": 35,
   "metadata": {},
   "outputs": [
    {
     "data": {
      "text/plain": [
       "LocationID\n",
       "False    0.995848\n",
       "True     0.004152\n",
       "Name: proportion, dtype: float64"
      ]
     },
     "execution_count": 35,
     "metadata": {},
     "output_type": "execute_result"
    }
   ],
   "source": [
    "ads_info.LocationID.isna().value_counts(normalize=True)"
   ]
  },
  {
   "cell_type": "code",
   "execution_count": 34,
   "metadata": {},
   "outputs": [
    {
     "data": {
      "text/plain": [
       "CategoryID\n",
       "43.0    0.124325\n",
       "34.0    0.111934\n",
       "22.0    0.089153\n",
       "38.0    0.059271\n",
       "60.0    0.052054\n",
       "47.0    0.050434\n",
       "50.0    0.041610\n",
       "54.0    0.041313\n",
       "42.0    0.040889\n",
       "41.0    0.035978\n",
       "Name: proportion, dtype: float64"
      ]
     },
     "execution_count": 34,
     "metadata": {},
     "output_type": "execute_result"
    }
   ],
   "source": [
    "ads_info.CategoryID.value_counts(normalize=True).head(10)"
   ]
  },
  {
   "cell_type": "code",
   "execution_count": 36,
   "metadata": {},
   "outputs": [
    {
     "data": {
      "text/plain": [
       "CategoryID\n",
       "False    0.999995\n",
       "True     0.000005\n",
       "Name: proportion, dtype: float64"
      ]
     },
     "execution_count": 36,
     "metadata": {},
     "output_type": "execute_result"
    }
   ],
   "source": [
    "ads_info.CategoryID.isna().value_counts(normalize=True)"
   ]
  },
  {
   "cell_type": "code",
   "execution_count": 38,
   "metadata": {},
   "outputs": [
    {
     "data": {
      "text/plain": [
       "IsContext\n",
       "0.0    0.995849\n",
       "1.0    0.004151\n",
       "Name: proportion, dtype: float64"
      ]
     },
     "execution_count": 38,
     "metadata": {},
     "output_type": "execute_result"
    }
   ],
   "source": [
    "ads_info.IsContext.value_counts(normalize=True)"
   ]
  },
  {
   "cell_type": "code",
   "execution_count": 41,
   "metadata": {},
   "outputs": [
    {
     "data": {
      "text/plain": [
       "count    5.960495e+06\n",
       "mean     5.451130e+06\n",
       "std      1.433890e+09\n",
       "min      0.000000e+00\n",
       "25%      7.000000e+02\n",
       "50%      4.400000e+03\n",
       "75%      4.000000e+04\n",
       "max      1.000000e+12\n",
       "Name: Price, dtype: float64"
      ]
     },
     "execution_count": 41,
     "metadata": {},
     "output_type": "execute_result"
    }
   ],
   "source": [
    "ads_info.Price.describe()"
   ]
  },
  {
   "cell_type": "code",
   "execution_count": 46,
   "metadata": {},
   "outputs": [
    {
     "data": {
      "image/png": "[encoded data removed]"
     },
     "metadata": {},
     "output_type": "display_data"
    }
   ],
   "source": [
    "fig = px.histogram(np.clip(ads_info.Price, 1, 1_000_000), log_y=True)\n",
    "fig.update_layout(width=700, height=500, xaxis_title='Price', yaxis_title='Count')\n",
    "fig.show(renderer='png')"
   ]
  },
  {
   "cell_type": "code",
   "execution_count": 47,
   "metadata": {},
   "outputs": [
    {
     "data": {
      "text/plain": [
       "0.0    0.000000e+00\n",
       "0.1    1.000000e+02\n",
       "0.2    5.000000e+02\n",
       "0.3    1.000000e+03\n",
       "0.4    2.000000e+03\n",
       "0.5    4.400000e+03\n",
       "0.6    9.000000e+03\n",
       "0.7    2.000000e+04\n",
       "0.8    1.000000e+05\n",
       "0.9    5.280000e+05\n",
       "1.0    1.000000e+12\n",
       "Name: Price, dtype: float64"
      ]
     },
     "execution_count": 47,
     "metadata": {},
     "output_type": "execute_result"
    }
   ],
   "source": [
    "ads_info.Price.quantile(np.arange(0, 1.1, 0.1))"
   ]
  },
  {
   "cell_type": "markdown",
   "metadata": {},
   "source": [
    "## Category"
   ]
  },
  {
   "cell_type": "code",
   "execution_count": 48,
   "metadata": {},
   "outputs": [],
   "source": [
    "%%sql category <<\n",
    "select * from Category;"
   ]
  },
  {
   "cell_type": "code",
   "execution_count": 49,
   "metadata": {},
   "outputs": [
    {
     "data": {
      "text/html": [
       "<div>\n",
       "<style scoped>\n",
       "    .dataframe tbody tr th:only-of-type {\n",
       "        vertical-align: middle;\n",
       "    }\n",
       "\n",
       "    .dataframe tbody tr th {\n",
       "        vertical-align: top;\n",
       "    }\n",
       "\n",
       "    .dataframe thead th {\n",
       "        text-align: right;\n",
       "    }\n",
       "</style>\n",
       "<table border=\"1\" class=\"dataframe\">\n",
       "  <thead>\n",
       "    <tr style=\"text-align: right;\">\n",
       "      <th></th>\n",
       "      <th>CategoryID</th>\n",
       "      <th>Level</th>\n",
       "      <th>ParentCategoryID</th>\n",
       "      <th>SubcategoryID</th>\n",
       "    </tr>\n",
       "  </thead>\n",
       "  <tbody>\n",
       "    <tr>\n",
       "      <th>0</th>\n",
       "      <td>0</td>\n",
       "      <td>1</td>\n",
       "      <td>10</td>\n",
       "      <td>45</td>\n",
       "    </tr>\n",
       "    <tr>\n",
       "      <th>1</th>\n",
       "      <td>1</td>\n",
       "      <td>2</td>\n",
       "      <td>9</td>\n",
       "      <td>45</td>\n",
       "    </tr>\n",
       "    <tr>\n",
       "      <th>2</th>\n",
       "      <td>2</td>\n",
       "      <td>3</td>\n",
       "      <td>12</td>\n",
       "      <td>5</td>\n",
       "    </tr>\n",
       "    <tr>\n",
       "      <th>3</th>\n",
       "      <td>3</td>\n",
       "      <td>3</td>\n",
       "      <td>9</td>\n",
       "      <td>25</td>\n",
       "    </tr>\n",
       "    <tr>\n",
       "      <th>4</th>\n",
       "      <td>4</td>\n",
       "      <td>3</td>\n",
       "      <td>2</td>\n",
       "      <td>39</td>\n",
       "    </tr>\n",
       "    <tr>\n",
       "      <th>...</th>\n",
       "      <td>...</td>\n",
       "      <td>...</td>\n",
       "      <td>...</td>\n",
       "      <td>...</td>\n",
       "    </tr>\n",
       "    <tr>\n",
       "      <th>63</th>\n",
       "      <td>63</td>\n",
       "      <td>2</td>\n",
       "      <td>11</td>\n",
       "      <td>45</td>\n",
       "    </tr>\n",
       "    <tr>\n",
       "      <th>64</th>\n",
       "      <td>64</td>\n",
       "      <td>3</td>\n",
       "      <td>11</td>\n",
       "      <td>33</td>\n",
       "    </tr>\n",
       "    <tr>\n",
       "      <th>65</th>\n",
       "      <td>65</td>\n",
       "      <td>3</td>\n",
       "      <td>7</td>\n",
       "      <td>26</td>\n",
       "    </tr>\n",
       "    <tr>\n",
       "      <th>66</th>\n",
       "      <td>66</td>\n",
       "      <td>3</td>\n",
       "      <td>11</td>\n",
       "      <td>8</td>\n",
       "    </tr>\n",
       "    <tr>\n",
       "      <th>67</th>\n",
       "      <td>67</td>\n",
       "      <td>3</td>\n",
       "      <td>5</td>\n",
       "      <td>1</td>\n",
       "    </tr>\n",
       "  </tbody>\n",
       "</table>\n",
       "<p>68 rows × 4 columns</p>\n",
       "</div>"
      ],
      "text/plain": [
       "    CategoryID  Level  ParentCategoryID  SubcategoryID\n",
       "0            0      1                10             45\n",
       "1            1      2                 9             45\n",
       "2            2      3                12              5\n",
       "3            3      3                 9             25\n",
       "4            4      3                 2             39\n",
       "..         ...    ...               ...            ...\n",
       "63          63      2                11             45\n",
       "64          64      3                11             33\n",
       "65          65      3                 7             26\n",
       "66          66      3                11              8\n",
       "67          67      3                 5              1\n",
       "\n",
       "[68 rows x 4 columns]"
      ]
     },
     "execution_count": 49,
     "metadata": {},
     "output_type": "execute_result"
    }
   ],
   "source": [
    "category"
   ]
  },
  {
   "cell_type": "markdown",
   "metadata": {},
   "source": [
    "## Location"
   ]
  },
  {
   "cell_type": "code",
   "execution_count": 50,
   "metadata": {},
   "outputs": [],
   "source": [
    "%%sql location <<\n",
    "select * from Location;"
   ]
  },
  {
   "cell_type": "code",
   "execution_count": 51,
   "metadata": {},
   "outputs": [
    {
     "data": {
      "text/html": [
       "<div>\n",
       "<style scoped>\n",
       "    .dataframe tbody tr th:only-of-type {\n",
       "        vertical-align: middle;\n",
       "    }\n",
       "\n",
       "    .dataframe tbody tr th {\n",
       "        vertical-align: top;\n",
       "    }\n",
       "\n",
       "    .dataframe thead th {\n",
       "        text-align: right;\n",
       "    }\n",
       "</style>\n",
       "<table border=\"1\" class=\"dataframe\">\n",
       "  <thead>\n",
       "    <tr style=\"text-align: right;\">\n",
       "      <th></th>\n",
       "      <th>LocationID</th>\n",
       "      <th>Level</th>\n",
       "      <th>RegionID</th>\n",
       "      <th>CityID</th>\n",
       "    </tr>\n",
       "  </thead>\n",
       "  <tbody>\n",
       "    <tr>\n",
       "      <th>0</th>\n",
       "      <td>0</td>\n",
       "      <td>2.0</td>\n",
       "      <td>70.0</td>\n",
       "      <td>3024.0</td>\n",
       "    </tr>\n",
       "    <tr>\n",
       "      <th>1</th>\n",
       "      <td>1</td>\n",
       "      <td>3.0</td>\n",
       "      <td>56.0</td>\n",
       "      <td>2791.0</td>\n",
       "    </tr>\n",
       "    <tr>\n",
       "      <th>2</th>\n",
       "      <td>2</td>\n",
       "      <td>3.0</td>\n",
       "      <td>56.0</td>\n",
       "      <td>1139.0</td>\n",
       "    </tr>\n",
       "    <tr>\n",
       "      <th>3</th>\n",
       "      <td>3</td>\n",
       "      <td>3.0</td>\n",
       "      <td>64.0</td>\n",
       "      <td>3660.0</td>\n",
       "    </tr>\n",
       "    <tr>\n",
       "      <th>4</th>\n",
       "      <td>4</td>\n",
       "      <td>3.0</td>\n",
       "      <td>63.0</td>\n",
       "      <td>1324.0</td>\n",
       "    </tr>\n",
       "    <tr>\n",
       "      <th>...</th>\n",
       "      <td>...</td>\n",
       "      <td>...</td>\n",
       "      <td>...</td>\n",
       "      <td>...</td>\n",
       "    </tr>\n",
       "    <tr>\n",
       "      <th>3507</th>\n",
       "      <td>3507</td>\n",
       "      <td>3.0</td>\n",
       "      <td>14.0</td>\n",
       "      <td>3414.0</td>\n",
       "    </tr>\n",
       "    <tr>\n",
       "      <th>3508</th>\n",
       "      <td>3508</td>\n",
       "      <td>3.0</td>\n",
       "      <td>49.0</td>\n",
       "      <td>2821.0</td>\n",
       "    </tr>\n",
       "    <tr>\n",
       "      <th>3509</th>\n",
       "      <td>3509</td>\n",
       "      <td>3.0</td>\n",
       "      <td>14.0</td>\n",
       "      <td>359.0</td>\n",
       "    </tr>\n",
       "    <tr>\n",
       "      <th>3510</th>\n",
       "      <td>3510</td>\n",
       "      <td>3.0</td>\n",
       "      <td>36.0</td>\n",
       "      <td>2834.0</td>\n",
       "    </tr>\n",
       "    <tr>\n",
       "      <th>3511</th>\n",
       "      <td>3511</td>\n",
       "      <td>3.0</td>\n",
       "      <td>13.0</td>\n",
       "      <td>278.0</td>\n",
       "    </tr>\n",
       "  </tbody>\n",
       "</table>\n",
       "<p>3512 rows × 4 columns</p>\n",
       "</div>"
      ],
      "text/plain": [
       "      LocationID  Level  RegionID  CityID\n",
       "0              0    2.0      70.0  3024.0\n",
       "1              1    3.0      56.0  2791.0\n",
       "2              2    3.0      56.0  1139.0\n",
       "3              3    3.0      64.0  3660.0\n",
       "4              4    3.0      63.0  1324.0\n",
       "...          ...    ...       ...     ...\n",
       "3507        3507    3.0      14.0  3414.0\n",
       "3508        3508    3.0      49.0  2821.0\n",
       "3509        3509    3.0      14.0   359.0\n",
       "3510        3510    3.0      36.0  2834.0\n",
       "3511        3511    3.0      13.0   278.0\n",
       "\n",
       "[3512 rows x 4 columns]"
      ]
     },
     "execution_count": 51,
     "metadata": {},
     "output_type": "execute_result"
    }
   ],
   "source": [
    "location"
   ]
  },
  {
   "cell_type": "markdown",
   "metadata": {},
   "source": [
    "## UserInfo"
   ]
  },
  {
   "cell_type": "code",
   "execution_count": 52,
   "metadata": {},
   "outputs": [],
   "source": [
    "%%sql users <<\n",
    "select * from UserInfo;"
   ]
  },
  {
   "cell_type": "code",
   "execution_count": 53,
   "metadata": {},
   "outputs": [
    {
     "data": {
      "text/html": [
       "<div>\n",
       "<style scoped>\n",
       "    .dataframe tbody tr th:only-of-type {\n",
       "        vertical-align: middle;\n",
       "    }\n",
       "\n",
       "    .dataframe tbody tr th {\n",
       "        vertical-align: top;\n",
       "    }\n",
       "\n",
       "    .dataframe thead th {\n",
       "        text-align: right;\n",
       "    }\n",
       "</style>\n",
       "<table border=\"1\" class=\"dataframe\">\n",
       "  <thead>\n",
       "    <tr style=\"text-align: right;\">\n",
       "      <th></th>\n",
       "      <th>UserID</th>\n",
       "      <th>UserAgentID</th>\n",
       "      <th>UserAgentOSID</th>\n",
       "      <th>UserDeviceID</th>\n",
       "      <th>UserAgentFamilyID</th>\n",
       "    </tr>\n",
       "  </thead>\n",
       "  <tbody>\n",
       "    <tr>\n",
       "      <th>0</th>\n",
       "      <td>0</td>\n",
       "      <td>54898.0</td>\n",
       "      <td>20.0</td>\n",
       "      <td>2014.0</td>\n",
       "      <td>85.0</td>\n",
       "    </tr>\n",
       "    <tr>\n",
       "      <th>1</th>\n",
       "      <td>1</td>\n",
       "      <td>15248.0</td>\n",
       "      <td>35.0</td>\n",
       "      <td>4093.0</td>\n",
       "      <td>25.0</td>\n",
       "    </tr>\n",
       "    <tr>\n",
       "      <th>2</th>\n",
       "      <td>2</td>\n",
       "      <td>12555.0</td>\n",
       "      <td>30.0</td>\n",
       "      <td>2019.0</td>\n",
       "      <td>9.0</td>\n",
       "    </tr>\n",
       "    <tr>\n",
       "      <th>3</th>\n",
       "      <td>3</td>\n",
       "      <td>18624.0</td>\n",
       "      <td>7.0</td>\n",
       "      <td>2014.0</td>\n",
       "      <td>64.0</td>\n",
       "    </tr>\n",
       "    <tr>\n",
       "      <th>4</th>\n",
       "      <td>4</td>\n",
       "      <td>44754.0</td>\n",
       "      <td>51.0</td>\n",
       "      <td>3296.0</td>\n",
       "      <td>18.0</td>\n",
       "    </tr>\n",
       "    <tr>\n",
       "      <th>...</th>\n",
       "      <td>...</td>\n",
       "      <td>...</td>\n",
       "      <td>...</td>\n",
       "      <td>...</td>\n",
       "      <td>...</td>\n",
       "    </tr>\n",
       "    <tr>\n",
       "      <th>98245</th>\n",
       "      <td>98245</td>\n",
       "      <td>27407.0</td>\n",
       "      <td>35.0</td>\n",
       "      <td>135.0</td>\n",
       "      <td>63.0</td>\n",
       "    </tr>\n",
       "    <tr>\n",
       "      <th>98246</th>\n",
       "      <td>98246</td>\n",
       "      <td>52045.0</td>\n",
       "      <td>35.0</td>\n",
       "      <td>871.0</td>\n",
       "      <td>62.0</td>\n",
       "    </tr>\n",
       "    <tr>\n",
       "      <th>98247</th>\n",
       "      <td>98247</td>\n",
       "      <td>1027.0</td>\n",
       "      <td>20.0</td>\n",
       "      <td>2014.0</td>\n",
       "      <td>7.0</td>\n",
       "    </tr>\n",
       "    <tr>\n",
       "      <th>98248</th>\n",
       "      <td>98248</td>\n",
       "      <td>63091.0</td>\n",
       "      <td>20.0</td>\n",
       "      <td>2014.0</td>\n",
       "      <td>25.0</td>\n",
       "    </tr>\n",
       "    <tr>\n",
       "      <th>98249</th>\n",
       "      <td>98249</td>\n",
       "      <td>35241.0</td>\n",
       "      <td>43.0</td>\n",
       "      <td>2014.0</td>\n",
       "      <td>62.0</td>\n",
       "    </tr>\n",
       "  </tbody>\n",
       "</table>\n",
       "<p>98250 rows × 5 columns</p>\n",
       "</div>"
      ],
      "text/plain": [
       "       UserID  UserAgentID  UserAgentOSID  UserDeviceID  UserAgentFamilyID\n",
       "0           0      54898.0           20.0        2014.0               85.0\n",
       "1           1      15248.0           35.0        4093.0               25.0\n",
       "2           2      12555.0           30.0        2019.0                9.0\n",
       "3           3      18624.0            7.0        2014.0               64.0\n",
       "4           4      44754.0           51.0        3296.0               18.0\n",
       "...       ...          ...            ...           ...                ...\n",
       "98245   98245      27407.0           35.0         135.0               63.0\n",
       "98246   98246      52045.0           35.0         871.0               62.0\n",
       "98247   98247       1027.0           20.0        2014.0                7.0\n",
       "98248   98248      63091.0           20.0        2014.0               25.0\n",
       "98249   98249      35241.0           43.0        2014.0               62.0\n",
       "\n",
       "[98250 rows x 5 columns]"
      ]
     },
     "execution_count": 53,
     "metadata": {},
     "output_type": "execute_result"
    }
   ],
   "source": [
    "users"
   ]
  },
  {
   "cell_type": "markdown",
   "metadata": {},
   "source": [
    "## Event Interest"
   ]
  },
  {
   "cell_type": "code",
   "execution_count": 54,
   "metadata": {},
   "outputs": [],
   "source": [
    "%%sql phone <<\n",
    "select * from PhoneRequestsStream;"
   ]
  },
  {
   "cell_type": "code",
   "execution_count": 55,
   "metadata": {},
   "outputs": [
    {
     "data": {
      "text/html": [
       "<div>\n",
       "<style scoped>\n",
       "    .dataframe tbody tr th:only-of-type {\n",
       "        vertical-align: middle;\n",
       "    }\n",
       "\n",
       "    .dataframe tbody tr th {\n",
       "        vertical-align: top;\n",
       "    }\n",
       "\n",
       "    .dataframe thead th {\n",
       "        text-align: right;\n",
       "    }\n",
       "</style>\n",
       "<table border=\"1\" class=\"dataframe\">\n",
       "  <thead>\n",
       "    <tr style=\"text-align: right;\">\n",
       "      <th></th>\n",
       "      <th>UserID</th>\n",
       "      <th>IPID</th>\n",
       "      <th>AdID</th>\n",
       "      <th>PhoneRequestDate</th>\n",
       "    </tr>\n",
       "  </thead>\n",
       "  <tbody>\n",
       "    <tr>\n",
       "      <th>0</th>\n",
       "      <td>38950.0</td>\n",
       "      <td>1629303.0</td>\n",
       "      <td>1938326.0</td>\n",
       "      <td>2015-04-25 11:50:35</td>\n",
       "    </tr>\n",
       "    <tr>\n",
       "      <th>1</th>\n",
       "      <td>38950.0</td>\n",
       "      <td>1629303.0</td>\n",
       "      <td>3917327.0</td>\n",
       "      <td>2015-04-25 11:51:14</td>\n",
       "    </tr>\n",
       "    <tr>\n",
       "      <th>2</th>\n",
       "      <td>18761.0</td>\n",
       "      <td>109220.0</td>\n",
       "      <td>3806832.0</td>\n",
       "      <td>2015-04-25 12:07:43</td>\n",
       "    </tr>\n",
       "    <tr>\n",
       "      <th>3</th>\n",
       "      <td>18761.0</td>\n",
       "      <td>109220.0</td>\n",
       "      <td>573126.0</td>\n",
       "      <td>2015-04-25 12:20:11</td>\n",
       "    </tr>\n",
       "    <tr>\n",
       "      <th>4</th>\n",
       "      <td>38950.0</td>\n",
       "      <td>1629303.0</td>\n",
       "      <td>1938326.0</td>\n",
       "      <td>2015-04-25 12:39:22</td>\n",
       "    </tr>\n",
       "    <tr>\n",
       "      <th>...</th>\n",
       "      <td>...</td>\n",
       "      <td>...</td>\n",
       "      <td>...</td>\n",
       "      <td>...</td>\n",
       "    </tr>\n",
       "    <tr>\n",
       "      <th>244430</th>\n",
       "      <td>NaN</td>\n",
       "      <td>1850902.0</td>\n",
       "      <td>1503766.0</td>\n",
       "      <td>2015-05-13 22:16:59</td>\n",
       "    </tr>\n",
       "    <tr>\n",
       "      <th>244431</th>\n",
       "      <td>NaN</td>\n",
       "      <td>1920287.0</td>\n",
       "      <td>NaN</td>\n",
       "      <td>2015-05-13 22:45:32</td>\n",
       "    </tr>\n",
       "    <tr>\n",
       "      <th>244432</th>\n",
       "      <td>NaN</td>\n",
       "      <td>1153190.0</td>\n",
       "      <td>NaN</td>\n",
       "      <td>2015-05-13 22:47:11</td>\n",
       "    </tr>\n",
       "    <tr>\n",
       "      <th>244433</th>\n",
       "      <td>NaN</td>\n",
       "      <td>2254444.0</td>\n",
       "      <td>NaN</td>\n",
       "      <td>2015-05-13 23:12:37</td>\n",
       "    </tr>\n",
       "    <tr>\n",
       "      <th>244434</th>\n",
       "      <td>NaN</td>\n",
       "      <td>1009284.0</td>\n",
       "      <td>552514.0</td>\n",
       "      <td>2015-05-13 23:37:46</td>\n",
       "    </tr>\n",
       "  </tbody>\n",
       "</table>\n",
       "<p>244435 rows × 4 columns</p>\n",
       "</div>"
      ],
      "text/plain": [
       "         UserID       IPID       AdID    PhoneRequestDate\n",
       "0       38950.0  1629303.0  1938326.0 2015-04-25 11:50:35\n",
       "1       38950.0  1629303.0  3917327.0 2015-04-25 11:51:14\n",
       "2       18761.0   109220.0  3806832.0 2015-04-25 12:07:43\n",
       "3       18761.0   109220.0   573126.0 2015-04-25 12:20:11\n",
       "4       38950.0  1629303.0  1938326.0 2015-04-25 12:39:22\n",
       "...         ...        ...        ...                 ...\n",
       "244430      NaN  1850902.0  1503766.0 2015-05-13 22:16:59\n",
       "244431      NaN  1920287.0        NaN 2015-05-13 22:45:32\n",
       "244432      NaN  1153190.0        NaN 2015-05-13 22:47:11\n",
       "244433      NaN  2254444.0        NaN 2015-05-13 23:12:37\n",
       "244434      NaN  1009284.0   552514.0 2015-05-13 23:37:46\n",
       "\n",
       "[244435 rows x 4 columns]"
      ]
     },
     "execution_count": 55,
     "metadata": {},
     "output_type": "execute_result"
    }
   ],
   "source": [
    "phone"
   ]
  },
  {
   "cell_type": "code",
   "execution_count": 57,
   "metadata": {},
   "outputs": [
    {
     "data": {
      "text/html": [
       "<div>\n",
       "<style scoped>\n",
       "    .dataframe tbody tr th:only-of-type {\n",
       "        vertical-align: middle;\n",
       "    }\n",
       "\n",
       "    .dataframe tbody tr th {\n",
       "        vertical-align: top;\n",
       "    }\n",
       "\n",
       "    .dataframe thead th {\n",
       "        text-align: right;\n",
       "    }\n",
       "</style>\n",
       "<table border=\"1\" class=\"dataframe\">\n",
       "  <thead>\n",
       "    <tr style=\"text-align: right;\">\n",
       "      <th></th>\n",
       "      <th>AdID</th>\n",
       "      <th>IPID</th>\n",
       "    </tr>\n",
       "  </thead>\n",
       "  <tbody>\n",
       "    <tr>\n",
       "      <th>count</th>\n",
       "      <td>30205.000000</td>\n",
       "      <td>30205.0</td>\n",
       "    </tr>\n",
       "    <tr>\n",
       "      <th>mean</th>\n",
       "      <td>7.016222</td>\n",
       "      <td>1.0</td>\n",
       "    </tr>\n",
       "    <tr>\n",
       "      <th>std</th>\n",
       "      <td>18.356903</td>\n",
       "      <td>0.0</td>\n",
       "    </tr>\n",
       "    <tr>\n",
       "      <th>min</th>\n",
       "      <td>1.000000</td>\n",
       "      <td>1.0</td>\n",
       "    </tr>\n",
       "    <tr>\n",
       "      <th>25%</th>\n",
       "      <td>1.000000</td>\n",
       "      <td>1.0</td>\n",
       "    </tr>\n",
       "    <tr>\n",
       "      <th>50%</th>\n",
       "      <td>3.000000</td>\n",
       "      <td>1.0</td>\n",
       "    </tr>\n",
       "    <tr>\n",
       "      <th>75%</th>\n",
       "      <td>7.000000</td>\n",
       "      <td>1.0</td>\n",
       "    </tr>\n",
       "    <tr>\n",
       "      <th>max</th>\n",
       "      <td>958.000000</td>\n",
       "      <td>1.0</td>\n",
       "    </tr>\n",
       "  </tbody>\n",
       "</table>\n",
       "</div>"
      ],
      "text/plain": [
       "               AdID     IPID\n",
       "count  30205.000000  30205.0\n",
       "mean       7.016222      1.0\n",
       "std       18.356903      0.0\n",
       "min        1.000000      1.0\n",
       "25%        1.000000      1.0\n",
       "50%        3.000000      1.0\n",
       "75%        7.000000      1.0\n",
       "max      958.000000      1.0"
      ]
     },
     "execution_count": 57,
     "metadata": {},
     "output_type": "execute_result"
    }
   ],
   "source": [
    "phone.groupby('UserID')[['AdID', 'IPID']].nunique().describe()"
   ]
  },
  {
   "cell_type": "code",
   "execution_count": 58,
   "metadata": {},
   "outputs": [
    {
     "data": {
      "text/plain": [
       "count    206748.000000\n",
       "mean          1.025040\n",
       "std           0.224643\n",
       "min           0.000000\n",
       "25%           1.000000\n",
       "50%           1.000000\n",
       "75%           1.000000\n",
       "max          23.000000\n",
       "Name: UserID, dtype: float64"
      ]
     },
     "execution_count": 58,
     "metadata": {},
     "output_type": "execute_result"
    }
   ],
   "source": [
    "phone.groupby('AdID')['UserID'].nunique().describe()"
   ]
  },
  {
   "cell_type": "code",
   "execution_count": 74,
   "metadata": {},
   "outputs": [
    {
     "data": {
      "image/png": "[encoded data removed]"
     },
     "metadata": {},
     "output_type": "display_data"
    }
   ],
   "source": [
    "fig = px.histogram(phone['PhoneRequestDate'].dt.strftime('%Y-%m-%d'))\n",
    "fig.show(renderer='png')"
   ]
  },
  {
   "cell_type": "markdown",
   "metadata": {},
   "source": [
    "## VisitStream"
   ]
  },
  {
   "cell_type": "code",
   "execution_count": 69,
   "metadata": {},
   "outputs": [],
   "source": [
    "%%sql visit <<\n",
    "select * from VisitStream;"
   ]
  },
  {
   "cell_type": "code",
   "execution_count": 70,
   "metadata": {},
   "outputs": [
    {
     "data": {
      "text/html": [
       "<div>\n",
       "<style scoped>\n",
       "    .dataframe tbody tr th:only-of-type {\n",
       "        vertical-align: middle;\n",
       "    }\n",
       "\n",
       "    .dataframe tbody tr th {\n",
       "        vertical-align: top;\n",
       "    }\n",
       "\n",
       "    .dataframe thead th {\n",
       "        text-align: right;\n",
       "    }\n",
       "</style>\n",
       "<table border=\"1\" class=\"dataframe\">\n",
       "  <thead>\n",
       "    <tr style=\"text-align: right;\">\n",
       "      <th></th>\n",
       "      <th>UserID</th>\n",
       "      <th>IPID</th>\n",
       "      <th>AdID</th>\n",
       "      <th>ViewDate</th>\n",
       "    </tr>\n",
       "  </thead>\n",
       "  <tbody>\n",
       "    <tr>\n",
       "      <th>0</th>\n",
       "      <td>20812.0</td>\n",
       "      <td>965680.0</td>\n",
       "      <td>2007763.0</td>\n",
       "      <td>2015-04-25 04:07:16</td>\n",
       "    </tr>\n",
       "    <tr>\n",
       "      <th>1</th>\n",
       "      <td>9281.0</td>\n",
       "      <td>76075.0</td>\n",
       "      <td>62087.0</td>\n",
       "      <td>2015-04-25 08:07:31</td>\n",
       "    </tr>\n",
       "    <tr>\n",
       "      <th>2</th>\n",
       "      <td>9281.0</td>\n",
       "      <td>76075.0</td>\n",
       "      <td>4459210.0</td>\n",
       "      <td>2015-04-25 08:08:38</td>\n",
       "    </tr>\n",
       "    <tr>\n",
       "      <th>3</th>\n",
       "      <td>9281.0</td>\n",
       "      <td>76075.0</td>\n",
       "      <td>3366402.0</td>\n",
       "      <td>2015-04-25 08:12:30</td>\n",
       "    </tr>\n",
       "    <tr>\n",
       "      <th>4</th>\n",
       "      <td>9281.0</td>\n",
       "      <td>76075.0</td>\n",
       "      <td>5742539.0</td>\n",
       "      <td>2015-04-25 08:13:01</td>\n",
       "    </tr>\n",
       "    <tr>\n",
       "      <th>...</th>\n",
       "      <td>...</td>\n",
       "      <td>...</td>\n",
       "      <td>...</td>\n",
       "      <td>...</td>\n",
       "    </tr>\n",
       "    <tr>\n",
       "      <th>5277856</th>\n",
       "      <td>NaN</td>\n",
       "      <td>118228.0</td>\n",
       "      <td>3333694.0</td>\n",
       "      <td>2015-05-13 23:52:32</td>\n",
       "    </tr>\n",
       "    <tr>\n",
       "      <th>5277857</th>\n",
       "      <td>NaN</td>\n",
       "      <td>626754.0</td>\n",
       "      <td>NaN</td>\n",
       "      <td>2015-05-13 23:54:42</td>\n",
       "    </tr>\n",
       "    <tr>\n",
       "      <th>5277858</th>\n",
       "      <td>NaN</td>\n",
       "      <td>1387203.0</td>\n",
       "      <td>NaN</td>\n",
       "      <td>2015-05-13 23:55:24</td>\n",
       "    </tr>\n",
       "    <tr>\n",
       "      <th>5277859</th>\n",
       "      <td>NaN</td>\n",
       "      <td>1797231.0</td>\n",
       "      <td>4012649.0</td>\n",
       "      <td>2015-05-13 23:57:59</td>\n",
       "    </tr>\n",
       "    <tr>\n",
       "      <th>5277860</th>\n",
       "      <td>NaN</td>\n",
       "      <td>694972.0</td>\n",
       "      <td>NaN</td>\n",
       "      <td>2015-05-13 23:59:18</td>\n",
       "    </tr>\n",
       "  </tbody>\n",
       "</table>\n",
       "<p>5277861 rows × 4 columns</p>\n",
       "</div>"
      ],
      "text/plain": [
       "          UserID       IPID       AdID            ViewDate\n",
       "0        20812.0   965680.0  2007763.0 2015-04-25 04:07:16\n",
       "1         9281.0    76075.0    62087.0 2015-04-25 08:07:31\n",
       "2         9281.0    76075.0  4459210.0 2015-04-25 08:08:38\n",
       "3         9281.0    76075.0  3366402.0 2015-04-25 08:12:30\n",
       "4         9281.0    76075.0  5742539.0 2015-04-25 08:13:01\n",
       "...          ...        ...        ...                 ...\n",
       "5277856      NaN   118228.0  3333694.0 2015-05-13 23:52:32\n",
       "5277857      NaN   626754.0        NaN 2015-05-13 23:54:42\n",
       "5277858      NaN  1387203.0        NaN 2015-05-13 23:55:24\n",
       "5277859      NaN  1797231.0  4012649.0 2015-05-13 23:57:59\n",
       "5277860      NaN   694972.0        NaN 2015-05-13 23:59:18\n",
       "\n",
       "[5277861 rows x 4 columns]"
      ]
     },
     "execution_count": 70,
     "metadata": {},
     "output_type": "execute_result"
    }
   ],
   "source": [
    "visit"
   ]
  },
  {
   "cell_type": "code",
   "execution_count": 76,
   "metadata": {},
   "outputs": [
    {
     "data": {
      "image/png": "[encoded data removed]"
     },
     "metadata": {},
     "output_type": "display_data"
    }
   ],
   "source": [
    "fig = px.histogram(visit['ViewDate'].dt.strftime('%Y-%m-%d'))\n",
    "fig.show(renderer='png')"
   ]
  },
  {
   "cell_type": "code",
   "execution_count": 77,
   "metadata": {},
   "outputs": [
    {
     "data": {
      "text/plain": [
       "count    58570.000000\n",
       "mean        70.973912\n",
       "std        134.877523\n",
       "min          0.000000\n",
       "25%          7.000000\n",
       "50%         25.000000\n",
       "75%         76.000000\n",
       "max       3236.000000\n",
       "Name: AdID, dtype: float64"
      ]
     },
     "execution_count": 77,
     "metadata": {},
     "output_type": "execute_result"
    }
   ],
   "source": [
    "visit.groupby('UserID')['AdID'].nunique().describe()"
   ]
  },
  {
   "cell_type": "markdown",
   "metadata": {},
   "source": [
    "## SearchStream\n"
   ]
  },
  {
   "cell_type": "code",
   "execution_count": 78,
   "metadata": {},
   "outputs": [],
   "source": [
    "%%sql search <<\n",
    "select * from SearchStream;"
   ]
  },
  {
   "cell_type": "code",
   "execution_count": 79,
   "metadata": {},
   "outputs": [
    {
     "data": {
      "text/html": [
       "<div>\n",
       "<style scoped>\n",
       "    .dataframe tbody tr th:only-of-type {\n",
       "        vertical-align: middle;\n",
       "    }\n",
       "\n",
       "    .dataframe tbody tr th {\n",
       "        vertical-align: top;\n",
       "    }\n",
       "\n",
       "    .dataframe thead th {\n",
       "        text-align: right;\n",
       "    }\n",
       "</style>\n",
       "<table border=\"1\" class=\"dataframe\">\n",
       "  <thead>\n",
       "    <tr style=\"text-align: right;\">\n",
       "      <th></th>\n",
       "      <th>SearchID</th>\n",
       "      <th>AdID</th>\n",
       "      <th>Position</th>\n",
       "      <th>ObjectType</th>\n",
       "      <th>HistCTR</th>\n",
       "      <th>IsClick</th>\n",
       "      <th>SearchDate</th>\n",
       "    </tr>\n",
       "  </thead>\n",
       "  <tbody>\n",
       "    <tr>\n",
       "      <th>0</th>\n",
       "      <td>541363.0</td>\n",
       "      <td>806173.0</td>\n",
       "      <td>8.0</td>\n",
       "      <td>1.0</td>\n",
       "      <td>NaN</td>\n",
       "      <td>NaN</td>\n",
       "      <td>2015-04-30 20:57:06</td>\n",
       "    </tr>\n",
       "    <tr>\n",
       "      <th>1</th>\n",
       "      <td>541363.0</td>\n",
       "      <td>4316980.0</td>\n",
       "      <td>2.0</td>\n",
       "      <td>1.0</td>\n",
       "      <td>NaN</td>\n",
       "      <td>NaN</td>\n",
       "      <td>2015-04-30 20:57:06</td>\n",
       "    </tr>\n",
       "    <tr>\n",
       "      <th>2</th>\n",
       "      <td>541363.0</td>\n",
       "      <td>2059012.0</td>\n",
       "      <td>7.0</td>\n",
       "      <td>1.0</td>\n",
       "      <td>NaN</td>\n",
       "      <td>NaN</td>\n",
       "      <td>2015-04-30 20:57:06</td>\n",
       "    </tr>\n",
       "    <tr>\n",
       "      <th>3</th>\n",
       "      <td>541363.0</td>\n",
       "      <td>1586570.0</td>\n",
       "      <td>6.0</td>\n",
       "      <td>1.0</td>\n",
       "      <td>NaN</td>\n",
       "      <td>NaN</td>\n",
       "      <td>2015-04-30 20:57:06</td>\n",
       "    </tr>\n",
       "    <tr>\n",
       "      <th>4</th>\n",
       "      <td>541363.0</td>\n",
       "      <td>5827116.0</td>\n",
       "      <td>1.0</td>\n",
       "      <td>3.0</td>\n",
       "      <td>0.005902</td>\n",
       "      <td>0.0</td>\n",
       "      <td>2015-04-30 20:57:06</td>\n",
       "    </tr>\n",
       "    <tr>\n",
       "      <th>...</th>\n",
       "      <td>...</td>\n",
       "      <td>...</td>\n",
       "      <td>...</td>\n",
       "      <td>...</td>\n",
       "      <td>...</td>\n",
       "      <td>...</td>\n",
       "      <td>...</td>\n",
       "    </tr>\n",
       "    <tr>\n",
       "      <th>7107272</th>\n",
       "      <td>272219.0</td>\n",
       "      <td>2115003.0</td>\n",
       "      <td>7.0</td>\n",
       "      <td>3.0</td>\n",
       "      <td>0.004097</td>\n",
       "      <td>0.0</td>\n",
       "      <td>2015-04-28 05:56:10</td>\n",
       "    </tr>\n",
       "    <tr>\n",
       "      <th>7107273</th>\n",
       "      <td>801957.0</td>\n",
       "      <td>2115003.0</td>\n",
       "      <td>7.0</td>\n",
       "      <td>3.0</td>\n",
       "      <td>0.004419</td>\n",
       "      <td>0.0</td>\n",
       "      <td>2015-05-03 21:02:17</td>\n",
       "    </tr>\n",
       "    <tr>\n",
       "      <th>7107274</th>\n",
       "      <td>801957.0</td>\n",
       "      <td>4769362.0</td>\n",
       "      <td>1.0</td>\n",
       "      <td>3.0</td>\n",
       "      <td>0.012318</td>\n",
       "      <td>0.0</td>\n",
       "      <td>2015-05-03 21:02:17</td>\n",
       "    </tr>\n",
       "    <tr>\n",
       "      <th>7107275</th>\n",
       "      <td>1034975.0</td>\n",
       "      <td>1738506.0</td>\n",
       "      <td>2.0</td>\n",
       "      <td>1.0</td>\n",
       "      <td>NaN</td>\n",
       "      <td>NaN</td>\n",
       "      <td>2015-05-05 21:41:22</td>\n",
       "    </tr>\n",
       "    <tr>\n",
       "      <th>7107276</th>\n",
       "      <td>1034975.0</td>\n",
       "      <td>976832.0</td>\n",
       "      <td>1.0</td>\n",
       "      <td>3.0</td>\n",
       "      <td>0.000010</td>\n",
       "      <td>0.0</td>\n",
       "      <td>2015-05-05 21:41:22</td>\n",
       "    </tr>\n",
       "  </tbody>\n",
       "</table>\n",
       "<p>7107277 rows × 7 columns</p>\n",
       "</div>"
      ],
      "text/plain": [
       "          SearchID       AdID  Position  ObjectType   HistCTR  IsClick  \\\n",
       "0         541363.0   806173.0       8.0         1.0       NaN      NaN   \n",
       "1         541363.0  4316980.0       2.0         1.0       NaN      NaN   \n",
       "2         541363.0  2059012.0       7.0         1.0       NaN      NaN   \n",
       "3         541363.0  1586570.0       6.0         1.0       NaN      NaN   \n",
       "4         541363.0  5827116.0       1.0         3.0  0.005902      0.0   \n",
       "...            ...        ...       ...         ...       ...      ...   \n",
       "7107272   272219.0  2115003.0       7.0         3.0  0.004097      0.0   \n",
       "7107273   801957.0  2115003.0       7.0         3.0  0.004419      0.0   \n",
       "7107274   801957.0  4769362.0       1.0         3.0  0.012318      0.0   \n",
       "7107275  1034975.0  1738506.0       2.0         1.0       NaN      NaN   \n",
       "7107276  1034975.0   976832.0       1.0         3.0  0.000010      0.0   \n",
       "\n",
       "                 SearchDate  \n",
       "0       2015-04-30 20:57:06  \n",
       "1       2015-04-30 20:57:06  \n",
       "2       2015-04-30 20:57:06  \n",
       "3       2015-04-30 20:57:06  \n",
       "4       2015-04-30 20:57:06  \n",
       "...                     ...  \n",
       "7107272 2015-04-28 05:56:10  \n",
       "7107273 2015-05-03 21:02:17  \n",
       "7107274 2015-05-03 21:02:17  \n",
       "7107275 2015-05-05 21:41:22  \n",
       "7107276 2015-05-05 21:41:22  \n",
       "\n",
       "[7107277 rows x 7 columns]"
      ]
     },
     "execution_count": 79,
     "metadata": {},
     "output_type": "execute_result"
    }
   ],
   "source": [
    "search"
   ]
  },
  {
   "cell_type": "code",
   "execution_count": 80,
   "metadata": {},
   "outputs": [
    {
     "data": {
      "image/png": "[encoded data removed]"
     },
     "metadata": {},
     "output_type": "display_data"
    }
   ],
   "source": [
    "fig = px.histogram(search['SearchDate'].dt.strftime('%Y-%m-%d'))\n",
    "fig.show(renderer='png')"
   ]
  },
  {
   "cell_type": "code",
   "execution_count": 83,
   "metadata": {},
   "outputs": [
    {
     "data": {
      "text/plain": [
       "count    3.433979e+06\n",
       "mean     1.011698e-02\n",
       "std      1.529766e-02\n",
       "min      1.000000e-05\n",
       "25%      2.300000e-03\n",
       "50%      5.188000e-03\n",
       "75%      1.112450e-02\n",
       "max      1.000000e+00\n",
       "Name: HistCTR, dtype: float64"
      ]
     },
     "execution_count": 83,
     "metadata": {},
     "output_type": "execute_result"
    }
   ],
   "source": [
    "search.HistCTR.describe()"
   ]
  },
  {
   "cell_type": "code",
   "execution_count": 84,
   "metadata": {},
   "outputs": [
    {
     "data": {
      "text/plain": [
       "0.5168361947902129"
      ]
     },
     "execution_count": 84,
     "metadata": {},
     "output_type": "execute_result"
    }
   ],
   "source": [
    "search.HistCTR.isna().mean()"
   ]
  },
  {
   "cell_type": "code",
   "execution_count": 85,
   "metadata": {},
   "outputs": [
    {
     "data": {
      "text/plain": [
       "count    1.961887e+06\n",
       "mean     3.622669e+00\n",
       "std      1.414210e+00\n",
       "min      1.000000e+00\n",
       "25%      2.000000e+00\n",
       "50%      4.000000e+00\n",
       "75%      5.000000e+00\n",
       "max      6.000000e+00\n",
       "Name: AdID, dtype: float64"
      ]
     },
     "execution_count": 85,
     "metadata": {},
     "output_type": "execute_result"
    }
   ],
   "source": [
    "search.groupby('SearchID')['AdID'].nunique().describe()"
   ]
  },
  {
   "cell_type": "code",
   "execution_count": 86,
   "metadata": {},
   "outputs": [
    {
     "data": {
      "text/plain": [
       "count    2.036524e+06\n",
       "mean     3.489901e+00\n",
       "std      6.922159e+01\n",
       "min      1.000000e+00\n",
       "25%      1.000000e+00\n",
       "50%      1.000000e+00\n",
       "75%      2.000000e+00\n",
       "max      2.377500e+04\n",
       "Name: SearchID, dtype: float64"
      ]
     },
     "execution_count": 86,
     "metadata": {},
     "output_type": "execute_result"
    }
   ],
   "source": [
    "search.groupby('AdID')['SearchID'].nunique().describe()"
   ]
  },
  {
   "cell_type": "markdown",
   "metadata": {},
   "source": [
    "## SearchInfo"
   ]
  },
  {
   "cell_type": "code",
   "execution_count": 87,
   "metadata": {},
   "outputs": [],
   "source": [
    "%%sql info <<\n",
    "select * from SearchInfo;"
   ]
  },
  {
   "cell_type": "code",
   "execution_count": 88,
   "metadata": {},
   "outputs": [
    {
     "data": {
      "text/html": [
       "<div>\n",
       "<style scoped>\n",
       "    .dataframe tbody tr th:only-of-type {\n",
       "        vertical-align: middle;\n",
       "    }\n",
       "\n",
       "    .dataframe tbody tr th {\n",
       "        vertical-align: top;\n",
       "    }\n",
       "\n",
       "    .dataframe thead th {\n",
       "        text-align: right;\n",
       "    }\n",
       "</style>\n",
       "<table border=\"1\" class=\"dataframe\">\n",
       "  <thead>\n",
       "    <tr style=\"text-align: right;\">\n",
       "      <th></th>\n",
       "      <th>UserID</th>\n",
       "      <th>SearchID</th>\n",
       "      <th>SearchDate</th>\n",
       "      <th>IPID</th>\n",
       "      <th>IsUserLoggedOn</th>\n",
       "      <th>SearchQuery</th>\n",
       "      <th>LocationID</th>\n",
       "      <th>CategoryID</th>\n",
       "    </tr>\n",
       "  </thead>\n",
       "  <tbody>\n",
       "    <tr>\n",
       "      <th>0</th>\n",
       "      <td>2139.0</td>\n",
       "      <td>0</td>\n",
       "      <td>2015-04-25 00:00:01</td>\n",
       "      <td>837134.0</td>\n",
       "      <td>1.0</td>\n",
       "      <td>None</td>\n",
       "      <td>497.0</td>\n",
       "      <td>34</td>\n",
       "    </tr>\n",
       "    <tr>\n",
       "      <th>1</th>\n",
       "      <td>1477.0</td>\n",
       "      <td>1</td>\n",
       "      <td>2015-04-25 00:00:02</td>\n",
       "      <td>2187370.0</td>\n",
       "      <td>0.0</td>\n",
       "      <td>None</td>\n",
       "      <td>334.0</td>\n",
       "      <td>22</td>\n",
       "    </tr>\n",
       "    <tr>\n",
       "      <th>2</th>\n",
       "      <td>68959.0</td>\n",
       "      <td>2</td>\n",
       "      <td>2015-04-25 00:00:02</td>\n",
       "      <td>2089629.0</td>\n",
       "      <td>1.0</td>\n",
       "      <td>None</td>\n",
       "      <td>497.0</td>\n",
       "      <td>60</td>\n",
       "    </tr>\n",
       "    <tr>\n",
       "      <th>3</th>\n",
       "      <td>58818.0</td>\n",
       "      <td>3</td>\n",
       "      <td>2015-04-25 00:00:03</td>\n",
       "      <td>63549.0</td>\n",
       "      <td>1.0</td>\n",
       "      <td>sony playstation 4</td>\n",
       "      <td>375.0</td>\n",
       "      <td>0</td>\n",
       "    </tr>\n",
       "    <tr>\n",
       "      <th>4</th>\n",
       "      <td>30136.0</td>\n",
       "      <td>4</td>\n",
       "      <td>2015-04-25 00:00:04</td>\n",
       "      <td>1727717.0</td>\n",
       "      <td>0.0</td>\n",
       "      <td>None</td>\n",
       "      <td>334.0</td>\n",
       "      <td>38</td>\n",
       "    </tr>\n",
       "    <tr>\n",
       "      <th>...</th>\n",
       "      <td>...</td>\n",
       "      <td>...</td>\n",
       "      <td>...</td>\n",
       "      <td>...</td>\n",
       "      <td>...</td>\n",
       "      <td>...</td>\n",
       "      <td>...</td>\n",
       "      <td>...</td>\n",
       "    </tr>\n",
       "    <tr>\n",
       "      <th>1987151</th>\n",
       "      <td>87797.0</td>\n",
       "      <td>1987151</td>\n",
       "      <td>2015-05-13 23:59:51</td>\n",
       "      <td>1065752.0</td>\n",
       "      <td>1.0</td>\n",
       "      <td>None</td>\n",
       "      <td>334.0</td>\n",
       "      <td>60</td>\n",
       "    </tr>\n",
       "    <tr>\n",
       "      <th>1987152</th>\n",
       "      <td>66281.0</td>\n",
       "      <td>1987152</td>\n",
       "      <td>2015-05-13 23:59:51</td>\n",
       "      <td>2209435.0</td>\n",
       "      <td>0.0</td>\n",
       "      <td>imac</td>\n",
       "      <td>497.0</td>\n",
       "      <td>17</td>\n",
       "    </tr>\n",
       "    <tr>\n",
       "      <th>1987153</th>\n",
       "      <td>97377.0</td>\n",
       "      <td>1987153</td>\n",
       "      <td>2015-05-13 23:59:55</td>\n",
       "      <td>1848828.0</td>\n",
       "      <td>0.0</td>\n",
       "      <td>None</td>\n",
       "      <td>190.0</td>\n",
       "      <td>34</td>\n",
       "    </tr>\n",
       "    <tr>\n",
       "      <th>1987154</th>\n",
       "      <td>78797.0</td>\n",
       "      <td>1987154</td>\n",
       "      <td>2015-05-13 23:59:58</td>\n",
       "      <td>684886.0</td>\n",
       "      <td>1.0</td>\n",
       "      <td>None</td>\n",
       "      <td>1.0</td>\n",
       "      <td>26</td>\n",
       "    </tr>\n",
       "    <tr>\n",
       "      <th>1987155</th>\n",
       "      <td>10502.0</td>\n",
       "      <td>1987155</td>\n",
       "      <td>2015-05-13 23:59:59</td>\n",
       "      <td>2103041.0</td>\n",
       "      <td>0.0</td>\n",
       "      <td>None</td>\n",
       "      <td>497.0</td>\n",
       "      <td>35</td>\n",
       "    </tr>\n",
       "  </tbody>\n",
       "</table>\n",
       "<p>1987156 rows × 8 columns</p>\n",
       "</div>"
      ],
      "text/plain": [
       "          UserID  SearchID          SearchDate       IPID  IsUserLoggedOn  \\\n",
       "0         2139.0         0 2015-04-25 00:00:01   837134.0             1.0   \n",
       "1         1477.0         1 2015-04-25 00:00:02  2187370.0             0.0   \n",
       "2        68959.0         2 2015-04-25 00:00:02  2089629.0             1.0   \n",
       "3        58818.0         3 2015-04-25 00:00:03    63549.0             1.0   \n",
       "4        30136.0         4 2015-04-25 00:00:04  1727717.0             0.0   \n",
       "...          ...       ...                 ...        ...             ...   \n",
       "1987151  87797.0   1987151 2015-05-13 23:59:51  1065752.0             1.0   \n",
       "1987152  66281.0   1987152 2015-05-13 23:59:51  2209435.0             0.0   \n",
       "1987153  97377.0   1987153 2015-05-13 23:59:55  1848828.0             0.0   \n",
       "1987154  78797.0   1987154 2015-05-13 23:59:58   684886.0             1.0   \n",
       "1987155  10502.0   1987155 2015-05-13 23:59:59  2103041.0             0.0   \n",
       "\n",
       "                SearchQuery  LocationID  CategoryID  \n",
       "0                      None       497.0          34  \n",
       "1                      None       334.0          22  \n",
       "2                      None       497.0          60  \n",
       "3        sony playstation 4       375.0           0  \n",
       "4                      None       334.0          38  \n",
       "...                     ...         ...         ...  \n",
       "1987151                None       334.0          60  \n",
       "1987152                imac       497.0          17  \n",
       "1987153                None       190.0          34  \n",
       "1987154                None         1.0          26  \n",
       "1987155                None       497.0          35  \n",
       "\n",
       "[1987156 rows x 8 columns]"
      ]
     },
     "execution_count": 88,
     "metadata": {},
     "output_type": "execute_result"
    }
   ],
   "source": [
    "info"
   ]
  },
  {
   "cell_type": "code",
   "execution_count": null,
   "metadata": {},
   "outputs": [],
   "source": []
  }
 ],
 "metadata": {
  "kernelspec": {
   "display_name": "relbench",
   "language": "python",
   "name": "python3"
  },
  "language_info": {
   "codemirror_mode": {
    "name": "ipython",
    "version": 3
   },
   "file_extension": ".py",
   "mimetype": "text/x-python",
   "name": "python",
   "nbconvert_exporter": "python",
   "pygments_lexer": "ipython3",
   "version": "3.11.8"
  }
 },
 "nbformat": 4,
 "nbformat_minor": 2
}
